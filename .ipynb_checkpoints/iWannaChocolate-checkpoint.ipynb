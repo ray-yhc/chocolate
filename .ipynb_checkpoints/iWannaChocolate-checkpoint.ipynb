{
 "cells": [
  {
   "cell_type": "code",
   "execution_count": 7,
   "metadata": {},
   "outputs": [],
   "source": [
    "import urllib.request\n",
    "import bs4\n",
    "\n",
    "# findAll(tag, attributes, recursive, text, limit, keyword)\n",
    "# find(tag, attributes, recursive, text, keyword)\n"
   ]
  },
  {
   "cell_type": "code",
   "execution_count": 8,
   "metadata": {},
   "outputs": [],
   "source": [
    "url=\"http://ggagganara.com/goods/goods_view.php?goodsNo=1000000964\""
   ]
  },
  {
   "cell_type": "code",
   "execution_count": 9,
   "metadata": {},
   "outputs": [],
   "source": [
    "html=urllib.request.urlopen(url)\n",
    "bsObj=bs4.BeautifulSoup(html, \"html.parser\")\n"
   ]
  },
  {
   "cell_type": "code",
   "execution_count": 10,
   "metadata": {},
   "outputs": [],
   "source": [
    "option_box=bsObj.find(\"div\",{\"class\":\"item_add_option_box\"})\n",
    "options=option_box.findAll(\"option\")"
   ]
  },
  {
   "cell_type": "code",
   "execution_count": 19,
   "metadata": {},
   "outputs": [],
   "source": [
    "chocolates=[]\n",
    "for option in options:\n",
    "#     chocolates.append(option.attrs[\"value\"])\n",
    "    chocolates.append(option.text)"
   ]
  },
  {
   "cell_type": "code",
   "execution_count": 20,
   "metadata": {},
   "outputs": [],
   "source": [
    "# -*- coding: utf-8 -*-\n",
    "import re\n",
    "\n",
    "#정규식 설명은 여기에서 \n",
    "#  http://pythonstudy.xyz/python/article/401-%EC%A0%95%EA%B7%9C-%ED%91%9C%ED%98%84%EC%8B%9D-Regex"
   ]
  },
  {
   "cell_type": "code",
   "execution_count": 116,
   "metadata": {},
   "outputs": [
    {
     "name": "stdout",
     "output_type": "stream",
     "text": [
      "-1\n",
      "50\n",
      "54\n",
      "49\n",
      "53\n",
      "55\n",
      "56\n",
      "50\n",
      "52\n",
      "55\n",
      "54\n",
      "57\n",
      "50\n",
      "50\n",
      "53\n",
      "49\n",
      "60\n",
      "60\n",
      "59\n",
      "61\n",
      "54\n",
      "57\n",
      "53\n",
      "52\n",
      "54\n",
      "53\n",
      "51\n",
      "50\n",
      "53\n",
      "54\n",
      "54\n",
      "54\n",
      "54\n",
      "49\n",
      "51\n",
      "53\n",
      "55\n",
      "56\n",
      "58\n",
      "52\n",
      "58\n",
      "59\n",
      "62\n",
      "55\n",
      "58\n",
      "54\n",
      "53\n",
      "53\n",
      "52\n",
      "57\n",
      "58\n",
      "59\n",
      "53\n",
      "54\n",
      "52\n"
     ]
    }
   ],
   "source": [
    "#g수 찾기 : g위치찾기->g앞에 숫자만 가져오기\n",
    "#개수 찾기 : x위치찾기\n",
    "for choco in chocolates:\n",
    "    print(choco.find(\"g\"))"
   ]
  },
  {
   "cell_type": "code",
   "execution_count": 123,
   "metadata": {},
   "outputs": [],
   "source": [
    "def pp10g(ds):\n",
    "    print(int(ds['price'])/(int(ds['gram'])*int(ds['ea'])/10))"
   ]
  },
  {
   "cell_type": "code",
   "execution_count": 124,
   "metadata": {},
   "outputs": [
    {
     "name": "stdout",
     "output_type": "stream",
     "text": [
      "112.0\n",
      "124.44444444444444\n",
      "155.55555555555554\n",
      "155.55555555555554\n",
      "155.55555555555554\n",
      "186.66666666666666\n",
      "164.7058823529412\n",
      "164.7058823529412\n",
      "212.5\n",
      "212.5\n",
      "212.5\n",
      "170.0\n",
      "212.5\n",
      "226.66666666666666\n",
      "194.28571428571428\n",
      "206.06060606060606\n",
      "206.06060606060606\n",
      "192.04545454545453\n",
      "192.04545454545453\n",
      "192.04545454545453\n",
      "338.0\n",
      "312.96296296296293\n",
      "172.30769230769232\n",
      "160.0\n",
      "160.0\n",
      "243.47826086956525\n",
      "171.34146341463415\n",
      "152.72727272727272\n",
      "184.8684210526316\n",
      "195.34883720930233\n",
      "195.34883720930233\n",
      "195.34883720930233\n",
      "186.66666666666666\n",
      "240.0\n",
      "210.0\n",
      "201.0\n",
      "201.0\n",
      "201.0\n",
      "139.75\n",
      "204.7945205479452\n",
      "204.7945205479452\n",
      "204.7945205479452\n",
      "196.06060606060606\n",
      "196.06060606060606\n",
      "196.06060606060606\n",
      "167.75\n",
      "191.71428571428572\n",
      "196.1988304093567\n",
      "239.93710691823898\n",
      "239.93710691823898\n",
      "239.93710691823898\n",
      "246.1290322580645\n",
      "151.0\n",
      "133.015873015873\n"
     ]
    }
   ],
   "source": [
    "# get_name=re.compile('[^ ㄱ-ㅣ 가-힣]+')\n",
    "get_name=re.compile('\\s?\\d{2,3}g\\s?|\\s?x\\d{1,2}\\s?|\\s?[\\d,\\+]{3,7}원\\s?|\\s?\\d{1,3}개\\s?|:')\n",
    "getaway_blank=re.compile('\\s\\s+')\n",
    "get_gram=re.compile('\\d{2,3}g')\n",
    "get_ea=re.compile('x\\d{1,2}')\n",
    "get_priceAlpha=re.compile('[\\d,]{3,7}원')\n",
    "get_soldout=re.compile('품절')\n",
    "# get_stock=re.compile()\n",
    "chocoData=[]\n",
    "priceDefault=1360\n",
    "for choco in chocolates:\n",
    "    fullSentence=getaway_blank.sub('',choco)\n",
    "    dataStructure={}\n",
    "    gram=get_gram.search(fullSentence)\n",
    "    if gram : \n",
    "        soldout=get_soldout.search(fullSentence)\n",
    "        if soldout : dataStructure['soldout']=True\n",
    "        else : dataStructure['soldout']=False\n",
    "        \n",
    "        name=get_name.sub('',fullSentence)\n",
    "        dataStructure['name']=name\n",
    "        \n",
    "        dataStructure['gram']=re.sub('g','',gram.group())\n",
    "        \n",
    "        ea=get_ea.search(fullSentence)\n",
    "        if ea : dataStructure['ea']=re.sub('x','',ea.group())\n",
    "        \n",
    "        priceAlpha=get_priceAlpha.search(fullSentence)\n",
    "        if priceAlpha : dataStructure['price']=priceDefault+int(re.sub('원|,','',priceAlpha.group()))\n",
    "        else : dataStructure['price']=priceDefault\n",
    "        \n",
    "        chocoData.append(dataStructure)\n",
    "        pp10g(dataStructure)\n",
    "        \n",
    "# chocoData"
   ]
  },
  {
   "cell_type": "code",
   "execution_count": 115,
   "metadata": {},
   "outputs": [
    {
     "data": {
      "text/plain": [
       "[{'soldout': False, 'name': '초코초코룬', 'gram': '50', 'ea': '3', 'price': 1680},\n",
       " {'soldout': False, 'name': '초코초코룬', 'gram': '45', 'ea': '3', 'price': 1680},\n",
       " {'soldout': False, 'name': '초코초코룬', 'gram': '36', 'ea': '3', 'price': 1680},\n",
       " {'soldout': False, 'name': '초코초코룬', 'gram': '36', 'ea': '3', 'price': 1680},\n",
       " {'soldout': False, 'name': '초코초코룬', 'gram': '36', 'ea': '3', 'price': 1680},\n",
       " {'soldout': False, 'name': '초코초코룬', 'gram': '30', 'ea': '3', 'price': 1680},\n",
       " {'soldout': False, 'name': '초코초코룬', 'gram': '34', 'ea': '3', 'price': 1680},\n",
       " {'soldout': False, 'name': '초코초코룬', 'gram': '34', 'ea': '3', 'price': 1680},\n",
       " {'soldout': False, 'name': '초코초코룬', 'gram': '32', 'ea': '2', 'price': 1360},\n",
       " {'soldout': False, 'name': '초코초코룬', 'gram': '32', 'ea': '2', 'price': 1360},\n",
       " {'soldout': False, 'name': '초코초코룬', 'gram': '32', 'ea': '2', 'price': 1360},\n",
       " {'soldout': False, 'name': '초코초코룬', 'gram': '40', 'ea': '2', 'price': 1360},\n",
       " {'soldout': False, 'name': '초코초코룬', 'gram': '32', 'ea': '2', 'price': 1360},\n",
       " {'soldout': False, 'name': '초코초코룬', 'gram': '30', 'ea': '2', 'price': 1360},\n",
       " {'soldout': False, 'name': '초코초코룬', 'gram': '35', 'ea': '2', 'price': 1360},\n",
       " {'soldout': False, 'name': '초코초코룬', 'gram': '33', 'ea': '2', 'price': 1360},\n",
       " {'soldout': False, 'name': '초코초코룬', 'gram': '33', 'ea': '2', 'price': 1360},\n",
       " {'soldout': False, 'name': '초코초코룬', 'gram': '44', 'ea': '2', 'price': 1690},\n",
       " {'soldout': False, 'name': '초코초코룬', 'gram': '44', 'ea': '2', 'price': 1690},\n",
       " {'soldout': False, 'name': '초코초코룬', 'gram': '44', 'ea': '2', 'price': 1690},\n",
       " {'soldout': False, 'name': '초코초코룬', 'gram': '25', 'ea': '2', 'price': 1690},\n",
       " {'soldout': False, 'name': '초코초코룬', 'gram': '27', 'ea': '2', 'price': 1690},\n",
       " {'soldout': False, 'name': '초코초코룬', 'gram': '65', 'ea': '2', 'price': 2240},\n",
       " {'soldout': False, 'name': '초코초코룬', 'gram': '70', 'ea': '2', 'price': 2240},\n",
       " {'soldout': False, 'name': '초코초코룬', 'gram': '70', 'ea': '2', 'price': 2240},\n",
       " {'soldout': False, 'name': '초코초코룬', 'gram': '46', 'ea': '2', 'price': 2240},\n",
       " {'soldout': False, 'name': '초코초코룬', 'gram': '82', 'ea': '2', 'price': 2810},\n",
       " {'soldout': False, 'name': '초코초코룬', 'gram': '110', 'ea': '2', 'price': 3360},\n",
       " {'soldout': False, 'name': '초코초코룬', 'gram': '76', 'ea': '2', 'price': 2810},\n",
       " {'soldout': False, 'name': '초코초코룬', 'gram': '86', 'ea': '2', 'price': 3360},\n",
       " {'soldout': False, 'name': '초코초코룬', 'gram': '86', 'ea': '2', 'price': 3360},\n",
       " {'soldout': False, 'name': '초코초코룬', 'gram': '86', 'ea': '2', 'price': 3360},\n",
       " {'soldout': False, 'name': '초코초코룬', 'gram': '90', 'ea': '2', 'price': 3360},\n",
       " {'soldout': False, 'name': '초코초코룬', 'gram': '70', 'ea': '2', 'price': 3360},\n",
       " {'soldout': False, 'name': '초코초코룬', 'gram': '80', 'ea': '2', 'price': 3360},\n",
       " {'soldout': False, 'name': '초코초코룬', 'gram': '100', 'ea': '2', 'price': 4020},\n",
       " {'soldout': False, 'name': '초코초코룬', 'gram': '100', 'ea': '2', 'price': 4020},\n",
       " {'soldout': False, 'name': '초코초코룬', 'gram': '100', 'ea': '2', 'price': 4020},\n",
       " {'soldout': False, 'name': '초코초코룬', 'gram': '200', 'ea': '2', 'price': 5590},\n",
       " {'soldout': False, 'name': '초코초코룬', 'gram': '146', 'ea': '2', 'price': 5980},\n",
       " {'soldout': False, 'name': '초코초코룬', 'gram': '146', 'ea': '2', 'price': 5980},\n",
       " {'soldout': False, 'name': '초코초코룬', 'gram': '146', 'ea': '2', 'price': 5980},\n",
       " {'soldout': False, 'name': '초코초코룬', 'gram': '165', 'ea': '2', 'price': 6470},\n",
       " {'soldout': False, 'name': '초코초코룬', 'gram': '165', 'ea': '2', 'price': 6470},\n",
       " {'soldout': False, 'name': '초코초코룬', 'gram': '165', 'ea': '2', 'price': 6470},\n",
       " {'soldout': False, 'name': '초코초코룬', 'gram': '200', 'ea': '2', 'price': 6710},\n",
       " {'soldout': False, 'name': '초코초코룬', 'gram': '175', 'ea': '2', 'price': 6710},\n",
       " {'soldout': False, 'name': '초코초코룬', 'gram': '171', 'ea': '2', 'price': 6710},\n",
       " {'soldout': True, 'name': '초코초코룬', 'gram': '159', 'ea': '2', 'price': 7630},\n",
       " {'soldout': False, 'name': '초코초코룬', 'gram': '159', 'ea': '2', 'price': 7630},\n",
       " {'soldout': False, 'name': '초코초코룬', 'gram': '159', 'ea': '2', 'price': 7630},\n",
       " {'soldout': False, 'name': '초코초코룬', 'gram': '155', 'ea': '2', 'price': 7630},\n",
       " {'soldout': True, 'name': '초코초코룬', 'gram': '500', 'ea': '2', 'price': 15100},\n",
       " {'soldout': False, 'name': '초코초코룬', 'gram': '630', 'ea': '2', 'price': 16760}]"
      ]
     },
     "execution_count": 115,
     "metadata": {},
     "output_type": "execute_result"
    }
   ],
   "source": []
  },
  {
   "cell_type": "code",
   "execution_count": null,
   "metadata": {},
   "outputs": [],
   "source": []
  }
 ],
 "metadata": {
  "kernelspec": {
   "display_name": "Python 3",
   "language": "python",
   "name": "python3"
  },
  "language_info": {
   "codemirror_mode": {
    "name": "ipython",
    "version": 3
   },
   "file_extension": ".py",
   "mimetype": "text/x-python",
   "name": "python",
   "nbconvert_exporter": "python",
   "pygments_lexer": "ipython3",
   "version": "3.7.4"
  }
 },
 "nbformat": 4,
 "nbformat_minor": 4
}
